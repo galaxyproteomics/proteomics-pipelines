{
 "cells": [
  {
   "cell_type": "markdown",
   "metadata": {},
   "source": [
    "# MetaNovo: probabilistic database filtration for accurate MS/MS peptide identification "
   ]
  },
  {
   "cell_type": "markdown",
   "metadata": {},
   "source": [
    "Matthys Potgieter, Andrew J.M. Nel, David Tabb, Jonathan Blackburn, Nicola Mulder"
   ]
  },
  {
   "cell_type": "code",
   "execution_count": 1,
   "metadata": {},
   "outputs": [],
   "source": [
    "import pandas as pd\n",
    "import numpy as np\n",
    "import os \n",
    "import shutil\n",
    "import scipy.stats\n",
    "import scikit_posthocs as ph\n",
    "import numpy as np\n",
    "import Bio\n",
    "import scipy.stats\n",
    "import scikit_posthocs as ph\n",
    "import numpy as np\n",
    "import matplotlib_venn\n",
    "from matplotlib_venn import venn3, venn2\n",
    "import matplotlib.pyplot as plt\n",
    "from pylab import *\n",
    "import matplotlib.pyplot as plt\n",
    "from pylab import *"
   ]
  },
  {
   "cell_type": "markdown",
   "metadata": {},
   "source": [
    "## 1. MetaPro-IQ comparison"
   ]
  },
  {
   "cell_type": "markdown",
   "metadata": {},
   "source": [
    "### 1.1 Preprocessing"
   ]
  },
  {
   "cell_type": "code",
   "execution_count": 3,
   "metadata": {},
   "outputs": [
    {
     "data": {
      "text/plain": [
       "16  Raw file                                           Total\n",
       "    MS                                                198071\n",
       "    MS/MS                                             483091\n",
       "    MS/MS Submitted                                   523851\n",
       "    MS/MS Submitted (SIL)                             442331\n",
       "    MS/MS Submitted (ISO)                                  0\n",
       "    MS/MS Submitted (PEAK)                             81520\n",
       "    MS/MS Identified                                  140784\n",
       "    MS/MS Identified (SIL)                            136963\n",
       "    MS/MS Identified (ISO)                                 0\n",
       "    MS/MS Identified (PEAK)                             3821\n",
       "    MS/MS Identified [%]                               26.87\n",
       "    MS/MS Identified (SIL) [%]                         30.96\n",
       "    MS/MS Identified (PEAK) [%]                         4.69\n",
       "    Peptide Sequences Identified                       58473\n",
       "    Peaks                                        2.05843e+07\n",
       "    Isotope Patterns                             1.93684e+06\n",
       "    Isotope Patterns Sequenced                        394538\n",
       "    Isotope Patterns Sequenced (z>1)                  390720\n",
       "    Isotope Patterns Sequenced [%]                     20.37\n",
       "    Isotope Patterns Sequenced (z>1) [%]               23.56\n",
       "    Isotope Patterns Repeatedly Sequenced              36780\n",
       "    Isotope Patterns Repeatedly Sequenced [%]           9.32\n",
       "    Av. Absolute Mass Deviation [ppm]                0.62746\n",
       "    Mass Standard Deviation [ppm]                    0.89653\n",
       "    Av. Absolute Mass Deviation [mDa]                0.44035\n",
       "    Mass Standard Deviation [mDa]                    0.65842\n",
       "dtype: object"
      ]
     },
     "execution_count": 3,
     "metadata": {},
     "output_type": "execute_result"
    }
   ],
   "source": [
    "# MetaNovp\n",
    "summary = pd.read_csv('/home/thys/metanovo/metanovo_igc_txt/summary.txt',sep='\\t')\n",
    "summary[16:].stack()\n",
    "#parameters = pd.read_csv('txt_metanovo/parameters.txt',sep='\\t')\n",
    "#pramaters"
   ]
  },
  {
   "cell_type": "code",
   "execution_count": 5,
   "metadata": {},
   "outputs": [
    {
     "data": {
      "text/plain": [
       "16  Raw file                                           Total\n",
       "    MS                                                198071\n",
       "    MS/MS                                             483091\n",
       "    MS/MS Submitted                                   523851\n",
       "    MS/MS Submitted (SIL)                             442331\n",
       "    MS/MS Submitted (ISO)                                  0\n",
       "    MS/MS Submitted (PEAK)                             81520\n",
       "    MS/MS Identified                                  150135\n",
       "    MS/MS Identified (SIL)                            145957\n",
       "    MS/MS Identified (ISO)                                 0\n",
       "    MS/MS Identified (PEAK)                             4178\n",
       "    MS/MS Identified [%]                               28.66\n",
       "    MS/MS Identified (SIL) [%]                            33\n",
       "    MS/MS Identified (PEAK) [%]                         5.13\n",
       "    Peptide Sequences Identified                       62930\n",
       "    Peaks                                        2.05843e+07\n",
       "    Isotope Patterns                             1.93684e+06\n",
       "    Isotope Patterns Sequenced                        394538\n",
       "    Isotope Patterns Sequenced (z>1)                  390720\n",
       "    Isotope Patterns Sequenced [%]                     20.37\n",
       "    Isotope Patterns Sequenced (z>1) [%]               23.56\n",
       "    Isotope Patterns Repeatedly Sequenced              36780\n",
       "    Isotope Patterns Repeatedly Sequenced [%]           9.32\n",
       "    Av. Absolute Mass Deviation [ppm]                0.62399\n",
       "    Mass Standard Deviation [ppm]                    0.89449\n",
       "    Av. Absolute Mass Deviation [mDa]                0.43352\n",
       "    Mass Standard Deviation [mDa]                    0.65007\n",
       "dtype: object"
      ]
     },
     "execution_count": 5,
     "metadata": {},
     "output_type": "execute_result"
    }
   ],
   "source": [
    "# MetaNovp\n",
    "summary = pd.read_csv('/home/thys/metanovo/metagenome_metanovo_txt/summary.txt',sep='\\t')\n",
    "summary[16:].stack()\n",
    "#parameters = pd.read_csv('txt_metanovo/parameters.txt',sep='\\t')\n",
    "#pramaters"
   ]
  },
  {
   "cell_type": "code",
   "execution_count": 6,
   "metadata": {},
   "outputs": [
    {
     "data": {
      "text/plain": [
       "16  Raw file                                           Total\n",
       "    MS                                                198071\n",
       "    MS/MS                                             483091\n",
       "    MS/MS Submitted                                   523851\n",
       "    MS/MS Submitted (SIL)                             442331\n",
       "    MS/MS Submitted (ISO)                                  0\n",
       "    MS/MS Submitted (PEAK)                             81520\n",
       "    MS/MS Identified                                  190106\n",
       "    MS/MS Identified (SIL)                            185213\n",
       "    MS/MS Identified (ISO)                                 0\n",
       "    MS/MS Identified (PEAK)                             4893\n",
       "    MS/MS Identified [%]                               36.29\n",
       "    MS/MS Identified (SIL) [%]                         41.87\n",
       "    MS/MS Identified (PEAK) [%]                            6\n",
       "    Peptide Sequences Identified                       69499\n",
       "    Peaks                                        2.05843e+07\n",
       "    Isotope Patterns                             1.93684e+06\n",
       "    Isotope Patterns Sequenced                        394538\n",
       "    Isotope Patterns Sequenced (z>1)                  390720\n",
       "    Isotope Patterns Sequenced [%]                     20.37\n",
       "    Isotope Patterns Sequenced (z>1) [%]               23.56\n",
       "    Isotope Patterns Repeatedly Sequenced              36780\n",
       "    Isotope Patterns Repeatedly Sequenced [%]           9.32\n",
       "    Av. Absolute Mass Deviation [ppm]                0.61329\n",
       "    Mass Standard Deviation [ppm]                    0.88381\n",
       "    Av. Absolute Mass Deviation [mDa]                0.43232\n",
       "    Mass Standard Deviation [mDa]                    0.65211\n",
       "dtype: object"
      ]
     },
     "execution_count": 6,
     "metadata": {},
     "output_type": "execute_result"
    }
   ],
   "source": [
    "# MetaNovp\n",
    "summary = pd.read_csv('/home/thys/metanovo/txt_metanovo/summary.txt',sep='\\t')\n",
    "summary[16:].stack()\n",
    "#parameters = pd.read_csv('txt_metanovo/parameters.txt',sep='\\t')\n",
    "#pramaters"
   ]
  },
  {
   "cell_type": "code",
   "execution_count": 8,
   "metadata": {},
   "outputs": [
    {
     "data": {
      "text/plain": [
       "32  Raw file                                           Total\n",
       "    MS                                                186376\n",
       "    MS/MS                                             646329\n",
       "    MS3                                                    0\n",
       "    MS/MS Submitted                                   753677\n",
       "    MS/MS Submitted (SIL)                             538979\n",
       "    MS/MS Submitted (ISO)                                  0\n",
       "    MS/MS Submitted (PEAK)                            214698\n",
       "    MS/MS Identified                                  283256\n",
       "    MS/MS Identified (SIL)                            273112\n",
       "    MS/MS Identified (ISO)                                 0\n",
       "    MS/MS Identified (PEAK)                            10144\n",
       "    MS/MS Identified [%]                               37.58\n",
       "    MS/MS Identified (SIL) [%]                         50.67\n",
       "    MS/MS Identified (PEAK) [%]                         4.72\n",
       "    Peptide Sequences Identified                       25250\n",
       "    Peaks                                        2.26897e+07\n",
       "    Isotope Patterns                             1.86192e+06\n",
       "    Isotope Patterns Sequenced                        346849\n",
       "    Isotope Patterns Sequenced (z>1)                  335525\n",
       "    Isotope Patterns Sequenced [%]                     18.63\n",
       "    Isotope Patterns Sequenced (z>1) [%]               23.08\n",
       "    Isotope Patterns Repeatedly Sequenced             125518\n",
       "    Isotope Patterns Repeatedly Sequenced [%]          36.19\n",
       "    Av. Absolute Mass Deviation [ppm]                0.79609\n",
       "    Mass Standard Deviation [ppm]                     1.1122\n",
       "    Av. Absolute Mass Deviation [mDa]                0.53742\n",
       "    Mass Standard Deviation [mDa]                    0.78763\n",
       "dtype: object"
      ]
     },
     "execution_count": 8,
     "metadata": {},
     "output_type": "execute_result"
    }
   ],
   "source": [
    "# MetaNovp\n",
    "summary = pd.read_csv('/home/thys/metanovo/cns_reference_txt/summary.txt',sep='\\t')\n",
    "summary[32:].stack()"
   ]
  },
  {
   "cell_type": "code",
   "execution_count": null,
   "metadata": {},
   "outputs": [],
   "source": [
    "# MetaNovp\n",
    "summary = pd.read_csv('cns_metanovo_txt/summary.txt',sep='\\t')\n",
    "summary[32:].stack()"
   ]
  },
  {
   "cell_type": "code",
   "execution_count": 12,
   "metadata": {},
   "outputs": [
    {
     "name": "stdout",
     "output_type": "stream",
     "text": [
      "Analysis: metanovo - UniProt\n",
      "metanovo - UniProt: Total peptides:  69499\n",
      "metanovo - UniProt: Total target peptides:  69314\n",
      "metanovo - UniProt: proteins:  15374\n",
      "metanovo - UniProt: Total target proteins:  15204\n",
      "\n",
      "Analysis: metanovo - igc\n",
      "metanovo - igc: Total peptides:  58473\n",
      "metanovo - igc: Total target peptides:  58307\n",
      "metanovo - igc: proteins:  14004\n",
      "metanovo - igc: Total target proteins:  13852\n",
      "\n",
      "Analysis: metanovo - metagenome\n",
      "metanovo - metagenome: Total peptides:  62930\n",
      "metanovo - metagenome: Total target peptides:  62774\n",
      "metanovo - metagenome: proteins:  13076\n",
      "metanovo - metagenome: Total target proteins:  12933\n",
      "\n",
      "Analysis: metaproiq - igc\n",
      "metaproiq - igc: Total peptides:  69051\n",
      "metaproiq - igc: Total target peptides:  68828\n",
      "metaproiq - igc: proteins:  19742\n",
      "metaproiq - igc: Total target proteins:  19533\n",
      "\n",
      "Analysis: metaproiq - metagenome\n",
      "metaproiq - metagenome: Total peptides:  71596\n",
      "metaproiq - metagenome: Total target peptides:  71390\n",
      "metaproiq - metagenome: proteins:  16956\n",
      "metaproiq - metagenome: Total target proteins:  16777\n",
      "\n"
     ]
    }
   ],
   "source": [
    "folders = { 'metanovo - UniProt':'txt_metanovo',\n",
    "            'metanovo - igc':'metanovo_igc_txt',\n",
    "            'metanovo - metagenome':'metagenome_metanovo_txt',\n",
    "            'metaproiq - igc' :'txt_workflow',\n",
    "            'metaproiq - metagenome':'txt_matched_metagenome'}\n",
    "\n",
    "order = ['metanovo - UniProt', 'metanovo - igc', 'metanovo - metagenome' , 'metaproiq - igc' , 'metaproiq - metagenome']\n",
    "def process_txt(path, name):\n",
    "    print('Analysis: {}'.format(name))\n",
    "    result = {}\n",
    "    peptides = pd.read_csv('{}/peptides.txt'.format(path),sep=None, engine='python')\n",
    "    proteins = pd.read_csv('{}/proteinGroups.txt'.format(path),sep=None, engine='python')\n",
    "    print('{}: Total peptides: '.format(name),len(peptides))\n",
    "    target_peptides = peptides[peptides['Reverse']!= '+']\n",
    "    reverse_peptides = peptides[peptides['Reverse'] == '+']\n",
    "    print('{}: Total target peptides: '.format(name),len(target_peptides))\n",
    "    print('{}: proteins: '.format(name),len(proteins))\n",
    "    target_proteins = proteins[proteins['Reverse']!= '+']\n",
    "    print('{}: Total target proteins: '.format(name),len(target_proteins))\n",
    "    peptide_sequences = set(target_peptides['Sequence'].tolist())\n",
    "    result['TargetPeptides'] = target_peptides\n",
    "    result['ReversePeptides'] = reverse_peptides\n",
    "\n",
    "    result['TargetProteins'] = target_proteins\n",
    "    reverse_peptide_sequences = reverse_peptides['Sequence'].tolist()\n",
    "    w = open('analysis/{}_peptide_list.txt'.format(name),'w')\n",
    "    w.write('\\n'.join(peptide_sequences))\n",
    "    w.close()\n",
    "    print()\n",
    "    return result\n",
    "\n",
    "results = {}\n",
    "for name in order:\n",
    "    path = folders[name]\n",
    "    res = process_txt(path, name)\n",
    "    results[name] = res\n",
    "    #print(res.keys())\n",
    "    "
   ]
  },
  {
   "cell_type": "markdown",
   "metadata": {},
   "source": [
    "### 1.2 Peptide and Protein Identification Bar Charts"
   ]
  },
  {
   "cell_type": "code",
   "execution_count": null,
   "metadata": {},
   "outputs": [],
   "source": [
    "\n",
    "keys = list(results.keys())\n",
    "plt.clf()\n",
    "# Peptide counts per sample\n",
    "count_df = pd.DataFrame()\n",
    "for name in order:\n",
    "    target_peptides = results[name]['TargetPeptides']\n",
    "    for col in target_peptides.columns:\n",
    "        if col.startswith('Experiment'):\n",
    "            seqs = set(target_peptides[(target_peptides[col] > 0)]['Sequence'].tolist())\n",
    "            count_df.loc[col.split()[1], name] = int(len(seqs))\n",
    "ax1 = count_df.plot(kind='bar', rot=1)\n",
    "ax1.set_title(\"Number of peptides\")\n",
    "ax1.legend(bbox_to_anchor=(1.05, 0), loc='lower left', borderaxespad=0.)\n",
    "fig = ax1.get_figure()\n",
    "fig.savefig('analysis/peptide_id_bar.png', bbox_inches='tight')\n",
    "plt.xticks(rotation=90)\n",
    "\n",
    "plt.show()\n",
    "\n",
    "# Protein counts per sample\n",
    "prot_count = pd.DataFrame()\n",
    "for name in order:\n",
    "    target_proteins = results[name]['TargetProteins']\n",
    "    for col in target_proteins.columns:\n",
    "        if col.startswith('MS/MS Count '):\n",
    "            ids = set(target_proteins[(target_proteins[col] > 0)]['id'].tolist())\n",
    "            prot_count.loc[col.split()[-1], name] = int(len(ids))\n",
    "ax2 = prot_count.plot(kind='bar', rot=1)\n",
    "ax2.set_title(\"Number of protein groups\")\n",
    "ax2.legend(bbox_to_anchor=(1.05, 0), loc='lower left', borderaxespad=0.)\n",
    "fig = ax2.get_figure()\n",
    "fig.savefig('analysis/protein_id_bar.png', bbox_inches='tight')\n",
    "plt.xticks(rotation=90)\n",
    "\n",
    "plt.show()"
   ]
  },
  {
   "cell_type": "markdown",
   "metadata": {},
   "source": [
    "### 1.3 PEP Score boxplots"
   ]
  },
  {
   "cell_type": "code",
   "execution_count": null,
   "metadata": {},
   "outputs": [],
   "source": [
    "##################\n",
    "## Peptide Sets ##\n",
    "##################\n",
    "all_peps = set()\n",
    "keys = list(results.keys())\n",
    "names = []\n",
    "pep_scores = []\n",
    "for key in order:\n",
    "    peps = set(results[key]['TargetPeptides']['Sequence'])\n",
    "    all_peps.update(peps)\n",
    "# Get common peptides to all runs\n",
    "intersect = all_peps.copy()\n",
    "for key in order:\n",
    "    peps = set(results[key]['TargetPeptides']['Sequence'])\n",
    "    intersect = intersect & peps\n",
    "# Get esclusive peptides for all runs\n",
    "for key in order:\n",
    "    peps = results[key]['TargetPeptides']\n",
    "    rpeps = results[key]['ReversePeptides']\n",
    "    exclusive = set(peps['Sequence'].tolist()).copy()\n",
    "    for qkey in keys:\n",
    "        if not qkey == key:\n",
    "            qpeps = results[qkey]['TargetPeptides']\n",
    "            qpeps = set(qpeps['Sequence'].tolist())\n",
    "            exclusive -= qpeps\n",
    "    print('{} exclusive: '.format(key), len(exclusive))\n",
    "    common_pep = peps[peps['Sequence'].isin(intersect)]['PEP'].tolist()\n",
    "    pep_scores.append(common_pep)\n",
    "    names.append(key + ': Shared')\n",
    "    exclusive_pep = peps[peps['Sequence'].isin(exclusive)]['PEP'].tolist()\n",
    "    pep_scores.append(exclusive_pep)\n",
    "    names.append(key + ': Only')\n",
    "    reverse_pep = rpeps['PEP'].tolist()\n",
    "    pep_scores.append(reverse_pep)\n",
    "    names.append(key + ': Reverse')\n",
    "\n",
    "#############\n",
    "## BOXPLOT ##\n",
    "#############\n",
    "\n",
    "colours = ['b','g','r','c','m','y','k']\n",
    "fig = plt.figure()\n",
    "ax = fig.add_subplot(111)\n",
    "# Create the boxplot\n",
    "bp = ax.boxplot(pep_scores, patch_artist=True, showfliers=False)\n",
    "## change outline color, fill color and linewidth of the boxes\n",
    "count = 0\n",
    "col_ind=0\n",
    "for box in bp['boxes']:\n",
    "    count += 1\n",
    "    # change outline color\n",
    "    box.set( color='#7570b3', linewidth=1)\n",
    "    # change fill color\n",
    "    box.set( facecolor = colours[col_ind] )\n",
    "    ## change color and linewidth of the whiskers\n",
    "    if count % 3 == 0:\n",
    "        col_ind +=1\n",
    "for whisker in bp['whiskers']:\n",
    "    whisker.set(color='#7570b3', linewidth=1)\n",
    "## change color and linewidth of the caps\n",
    "for cap in bp['caps']:\n",
    "    cap.set(color='#7570b3', linewidth=1)\n",
    "## change color and linewidth of the medians\n",
    "for median in bp['medians']:\n",
    "    median.set(color='#b2df8a', linewidth=2)\n",
    "    #median.set(linewidth=2)\n",
    "## change the style of fliers and their fill\n",
    "for flier in bp['fliers']:\n",
    "    flier.set(marker='.', color='#e7298a', alpha=0.5)\n",
    "## Custom x-axis labels\n",
    "ax.set_xticklabels(names, rotation=90)\n",
    "#ax.set_yticklabels('Posterior Error Probability (PEP)') \n",
    "ax.set_title('Peptide PEP Score distributions')\n",
    "## Remove top axes and right axes ticks\n",
    "ax.get_xaxis().tick_bottom()\n",
    "ax.get_yaxis().tick_left()\n",
    "fig.savefig('analysis/psm_pep_scores.png', bbox_inches='tight')\n",
    "plt.show()\n",
    "fig.clf()\n",
    "\n",
    "pep_df = pd.DataFrame()\n",
    "for val in range(len(names)):\n",
    "    pep_df.loc[names[val], 'Count'] = len(pep_scores[val])\n",
    "    pep_df.loc[names[val], 'PEP Score - median'] = np.median(pep_scores[val])\n",
    "    pep_df.loc[names[val], 'PEP Score - std. dev.'] = np.std(pep_scores[val])\n",
    "\n",
    "pep_df.to_csv('analysis/pep_scores.csv')\n",
    "pep_df"
   ]
  },
  {
   "cell_type": "markdown",
   "metadata": {},
   "source": [
    "### 1.4 PEP Score Kruskal-Wallis"
   ]
  },
  {
   "cell_type": "code",
   "execution_count": 33,
   "metadata": {},
   "outputs": [
    {
     "name": "stdout",
     "output_type": "stream",
     "text": [
      "KruskalResult(statistic=261.7432734591897, pvalue=1.8866788880406473e-56)\n"
     ]
    },
    {
     "data": {
      "text/html": [
       "<div>\n",
       "<style scoped>\n",
       "    .dataframe tbody tr th:only-of-type {\n",
       "        vertical-align: middle;\n",
       "    }\n",
       "\n",
       "    .dataframe tbody tr th {\n",
       "        vertical-align: top;\n",
       "    }\n",
       "\n",
       "    .dataframe thead th {\n",
       "        text-align: right;\n",
       "    }\n",
       "</style>\n",
       "<table border=\"1\" class=\"dataframe\">\n",
       "  <thead>\n",
       "    <tr style=\"text-align: right;\">\n",
       "      <th></th>\n",
       "      <th>metanovo - UniProt: Human</th>\n",
       "      <th>metanovo - UniProt: Other</th>\n",
       "      <th>metanovo - UniProt: Contaminant</th>\n",
       "      <th>metanovo - UniProt: Reverse</th>\n",
       "    </tr>\n",
       "  </thead>\n",
       "  <tbody>\n",
       "    <tr>\n",
       "      <th>metanovo - UniProt: Human</th>\n",
       "      <td>-1.000000e+00</td>\n",
       "      <td>7.074290e-51</td>\n",
       "      <td>0.000002</td>\n",
       "      <td>3.375956e-15</td>\n",
       "    </tr>\n",
       "    <tr>\n",
       "      <th>metanovo - UniProt: Other</th>\n",
       "      <td>7.074290e-51</td>\n",
       "      <td>-1.000000e+00</td>\n",
       "      <td>0.994544</td>\n",
       "      <td>6.978041e-08</td>\n",
       "    </tr>\n",
       "    <tr>\n",
       "      <th>metanovo - UniProt: Contaminant</th>\n",
       "      <td>2.475835e-06</td>\n",
       "      <td>9.945444e-01</td>\n",
       "      <td>-1.000000</td>\n",
       "      <td>1.437990e-06</td>\n",
       "    </tr>\n",
       "    <tr>\n",
       "      <th>metanovo - UniProt: Reverse</th>\n",
       "      <td>3.375956e-15</td>\n",
       "      <td>6.978041e-08</td>\n",
       "      <td>0.000001</td>\n",
       "      <td>-1.000000e+00</td>\n",
       "    </tr>\n",
       "  </tbody>\n",
       "</table>\n",
       "</div>"
      ],
      "text/plain": [
       "                                 metanovo - UniProt: Human  \\\n",
       "metanovo - UniProt: Human                    -1.000000e+00   \n",
       "metanovo - UniProt: Other                     7.074290e-51   \n",
       "metanovo - UniProt: Contaminant               2.475835e-06   \n",
       "metanovo - UniProt: Reverse                   3.375956e-15   \n",
       "\n",
       "                                 metanovo - UniProt: Other  \\\n",
       "metanovo - UniProt: Human                     7.074290e-51   \n",
       "metanovo - UniProt: Other                    -1.000000e+00   \n",
       "metanovo - UniProt: Contaminant               9.945444e-01   \n",
       "metanovo - UniProt: Reverse                   6.978041e-08   \n",
       "\n",
       "                                 metanovo - UniProt: Contaminant  \\\n",
       "metanovo - UniProt: Human                               0.000002   \n",
       "metanovo - UniProt: Other                               0.994544   \n",
       "metanovo - UniProt: Contaminant                        -1.000000   \n",
       "metanovo - UniProt: Reverse                             0.000001   \n",
       "\n",
       "                                 metanovo - UniProt: Reverse  \n",
       "metanovo - UniProt: Human                       3.375956e-15  \n",
       "metanovo - UniProt: Other                       6.978041e-08  \n",
       "metanovo - UniProt: Contaminant                 1.437990e-06  \n",
       "metanovo - UniProt: Reverse                    -1.000000e+00  "
      ]
     },
     "execution_count": 33,
     "metadata": {},
     "output_type": "execute_result"
    }
   ],
   "source": [
    "def list_kw_dunn(names, data, value, group, path):\n",
    "    colnames=names\n",
    "    kw = scipy.stats.kruskal(*data)\n",
    "    w = open(path + '/kw.txt', 'w')\n",
    "    w.write(str(kw))\n",
    "    print(kw)\n",
    "    w.close()\n",
    "    post_hoc = pd.DataFrame(ph.posthoc_dunn(data, p_adjust = 'fdr_bh'))\n",
    "    post_hoc.index = names\n",
    "    post_hoc.columns = names\n",
    "    post_hoc.to_csv(path + '/dunn_bh.csv')\n",
    "    return post_hoc\n",
    "post_hoc = list_kw_dunn(names, pep_scores, \"PEP\", \"Workflow\", 'analysis')\n",
    "post_hoc"
   ]
  },
  {
   "cell_type": "markdown",
   "metadata": {},
   "source": [
    "### 1.5 Venn Diagrams"
   ]
  },
  {
   "cell_type": "code",
   "execution_count": null,
   "metadata": {},
   "outputs": [],
   "source": [
    "\n",
    "\n",
    "set1 = set(results['metanovo - UniProt']['TargetPeptides']['Sequence'])\n",
    "set2 = set(results['metaproiq - igc']['TargetPeptides']['Sequence'])\n",
    "set3 = set(results['metaproiq - metagenome']['TargetPeptides']['Sequence'])\n",
    "\n",
    "#figure(num=None, figsize=(8, 6), dpi=120, facecolor='w', edgecolor='k')\n",
    "fig = plt.figure()\n",
    "venn3([set1, set2, set3], ('MetaNovo:\\nUniProt', 'MetaPro-IQ:\\nintegrated gene catalog', 'MetaProIQ:\\nmatched metagenome'))\n",
    "fig.savefig('analysis/mli_venn1.png', bbox_inches='tight')\n",
    "\n",
    "plt.show()\n",
    "\n",
    "#figure(num=None, figsize=(8, 6), dpi=120, facecolor='w', edgecolor='k')\n",
    "fig = plt.figure()\n",
    "venn2([set1, set2], ('MetaNovo:\\nUniProt', 'MetaPro-IQ:\\nintegrated gene catalog'))\n",
    "fig.savefig('analysis/mli_venn2.png', bbox_inches='tight')\n",
    "\n",
    "plt.show()\n",
    "\n",
    "\n",
    "set1 = set(results['metanovo - UniProt']['TargetPeptides']['Sequence'])\n",
    "set2 = set(results['metanovo - igc']['TargetPeptides']['Sequence'])\n",
    "set3 = set(results['metanovo - metagenome']['TargetPeptides']['Sequence'])\n",
    "\n",
    "fig = plt.figure()\n",
    "venn3([set1, set2, set3], ('MetaNovo:\\nUniProt', 'MetaNovo:\\nintegrated gene catalog', 'MetaNovo:\\nmatched metagenome'))\n",
    "fig.savefig('analysis/mli_venn3.png', bbox_inches='tight')\n",
    "\n",
    "#figure(num=None, figsize=(8, 6), dpi=120, facecolor='w', edgecolor='k')\n",
    "\n",
    "\n",
    "plt.show()\n",
    "\n",
    "set1 = set(results['metanovo - igc']['TargetPeptides']['Sequence'])\n",
    "set2 = set(results['metaproiq - igc']['TargetPeptides']['Sequence'])\n",
    "\n",
    "\n",
    "#figure(num=None, figsize=(8, 6), dpi=120, facecolor='w', edgecolor='k')\n",
    "fig = plt.figure()\n",
    "venn2([set1, set2], ('MetaNovo:\\nintegrated gene catalog', 'MetaPro-IQ:\\nintegrated gene catalog'))\n",
    "fig.savefig('analysis/mli_venn4.png', bbox_inches='tight')\n",
    "\n",
    "plt.show()\n",
    "\n",
    "set1 = set(results['metanovo - metagenome']['TargetPeptides']['Sequence'])\n",
    "set2 = set(results['metaproiq - metagenome']['TargetPeptides']['Sequence'])\n",
    "\n",
    "\n",
    "#figure(num=None, figsize=(8, 6), dpi=120, facecolor='w', edgecolor='k')\n",
    "fig = plt.figure()\n",
    "venn2([set1, set2], ('MetaNovo:\\nmatched metagenome', 'MetaPro-IQ:\\nmatched metagenome'))\n",
    "fig.savefig('analysis/mli_venn5.png', bbox_inches='tight')\n",
    "\n",
    "plt.show()"
   ]
  },
  {
   "cell_type": "markdown",
   "metadata": {},
   "source": [
    "### 1.6 UniPept "
   ]
  },
  {
   "cell_type": "code",
   "execution_count": null,
   "metadata": {},
   "outputs": [],
   "source": [
    "print('All peptides found: ', len(all_peps))\n",
    "w = open('analysis/combined_peptide_set.txt','w')\n",
    "w.write('\\n'.join(all_peps))\n",
    "w.close()\n",
    "cmd = 'cat analysis/combined_peptide_set.txt | prot2pept | peptfilter | sort -u | unipept pept2lca -e -a > analysis/combined_pept2lca.csv'\n",
    "!{cmd}"
   ]
  },
  {
   "cell_type": "code",
   "execution_count": null,
   "metadata": {},
   "outputs": [],
   "source": [
    "\n",
    "taxa = pd.read_csv('analysis/combined_pept2lca.csv')\n",
    "template = pd.DataFrame(pd.Series(list(all_peps)))\n",
    "template.rename(columns={0:'peptide'}, inplace=True)\n",
    "smapping = pd.merge(template, taxa, how='left')"
   ]
  },
  {
   "cell_type": "code",
   "execution_count": null,
   "metadata": {},
   "outputs": [],
   "source": [
    "\n",
    "order = ['metanovo - UniProt', 'metanovo - igc', 'metanovo - metagenome' , 'metaproiq - igc' , 'metaproiq - metagenome']\n",
    "def plot_taxa( results, col , mapping):\n",
    "    keys = list(results.keys())\n",
    "    plt.clf()\n",
    "    # Peptide counts per sample\n",
    "    count_df = pd.DataFrame()\n",
    "    for name in order:\n",
    "        target_peptides = results[name]['TargetPeptides']\n",
    "        mapped = pd.merge(target_peptides, mapping, how='left', left_on='Sequence', right_on='peptide')\n",
    "        #mapped = mapped.replace(np.nan, 'Uncharacterized')\n",
    "        agg_cols = {'MS/MS Count': sum }\n",
    "        agg = mapped.groupby(mapped[col]).agg(agg_cols)\n",
    "        count_df[name] = agg['MS/MS Count']\n",
    "    count_df = count_df.replace(np.nan, 0)\n",
    "    count_df['Total'] = count_df.sum(axis=1)\n",
    "    for column in count_df.columns:\n",
    "        vals = count_df[count_df[column] > 0 ]\n",
    "        print(column, len(vals))\n",
    "        \n",
    "    count_df = count_df.sort_values('Total',ascending=False)[:15]\n",
    "    #print(count_df.head())\n",
    "    del count_df['Total']\n",
    "    t_df = count_df.transpose()    \n",
    "    ax1 = t_df.plot(kind='bar', rot=1, stacked=True)\n",
    "    ax1.set_title(\"MS/MS Count by UniPept pept2lca {}\".format(col))\n",
    "    ax1.legend(bbox_to_anchor=(1.05, 0), loc='lower left', borderaxespad=0.)\n",
    "    plt.xticks(rotation=90)\n",
    "    fig = ax1.get_figure()\n",
    "    fig.savefig('analysis/{}_bar.png'.format(col), bbox_inches='tight')\n",
    "    \n",
    "    plt.show()\n",
    "    #print(count_df)\n",
    "    return count_df\n",
    "\n",
    "count_df = plot_taxa(results, 'phylum_name', smapping)\n",
    "#plot_taxa('family_name')\n",
    "#count_df = plot_taxa('genus_name')\n",
    "count_df = plot_taxa(results, 'species_name', smapping)\n",
    "\n",
    "#count_df"
   ]
  },
  {
   "cell_type": "code",
   "execution_count": null,
   "metadata": {},
   "outputs": [],
   "source": []
  },
  {
   "cell_type": "code",
   "execution_count": null,
   "metadata": {},
   "outputs": [],
   "source": [
    "def plot_taxa_runs( data_results, col , run, mapping):\n",
    "    keys = list(data_results.keys())\n",
    "    plt.clf()\n",
    "    # Peptide counts per sample\n",
    "    count_df = pd.DataFrame()\n",
    "    target_peptides = data_results[run]['TargetPeptides']\n",
    "    for c in target_peptides.columns:\n",
    "            if c.startswith('Experiment '):\n",
    "                seqs = target_peptides[[ 'Sequence' , c ]]\n",
    "                #count_df.loc[col.split()[1], name] = int(len(seqs))\n",
    "                mapped = pd.merge(seqs, mapping, how='left', left_on='Sequence', right_on='peptide')\n",
    "                #mapped[col] = mapped[col].replace(np.nan, 'Uncharacterized')\n",
    "                agg_cols = {c: sum }\n",
    "                agg = mapped.groupby(mapped[col]).agg(agg_cols)\n",
    "                agg[c] = agg[c]#/agg[c].sum() * 100\n",
    "                count_df[c.split()[-1]] = agg[c]\n",
    "    count_df = count_df.replace(np.nan, 0)\n",
    "    count_df['Total'] = count_df.sum(axis=1)\n",
    "    count_df = count_df.sort_values('Total',ascending=False)[:15]\n",
    "    del count_df['Total']\n",
    "    t_df = count_df.transpose()    \n",
    "    ax1 = t_df.plot(kind='bar', rot=1, stacked=True)\n",
    "    ax1.set_title(\"MS/MS Count by UniPept pept2lca {}\".format(col))\n",
    "    ax1.legend(bbox_to_anchor=(1.05, 0), loc='lower left', borderaxespad=0.)\n",
    "    fig = ax1.get_figure()\n",
    "    fig.savefig('analysis/{}_bar.png'.format(col), bbox_inches='tight')\n",
    "    plt.xticks(rotation=90)\n",
    "    plt.show()\n",
    "    return count_df\n",
    "\n",
    "print('MetaGenome')\n",
    "plot_taxa_runs(results, 'phylum_name', 'metaproiq - metagenome', smapping )\n",
    "print('IGC')\n",
    "plot_taxa_runs(results, 'phylum_name', 'metaproiq - igc', smapping )\n",
    "print('UniProt')\n",
    "plot_taxa_runs(results, 'phylum_name', 'metanovo - UniProt' , smapping)"
   ]
  },
  {
   "cell_type": "code",
   "execution_count": null,
   "metadata": {},
   "outputs": [],
   "source": [
    "print('MetaGenome')\n",
    "plot_taxa_runs(results, 'species_name', 'metaproiq - metagenome', smapping )\n",
    "print('IGC')\n",
    "plot_taxa_runs(results, 'species_name', 'metaproiq - igc' ,smapping)\n",
    "print('UniProt')\n",
    "plot_taxa_runs(results, 'species_name', 'metanovo - UniProt' , smapping)"
   ]
  },
  {
   "cell_type": "markdown",
   "metadata": {},
   "source": [
    "## 2. Human CNS Validation"
   ]
  },
  {
   "cell_type": "markdown",
   "metadata": {},
   "source": [
    "### 2.1 Preprocessing"
   ]
  },
  {
   "cell_type": "code",
   "execution_count": null,
   "metadata": {},
   "outputs": [],
   "source": [
    "# MetaNovp\n",
    "summary = pd.read_csv('cns_reference_txt/summary.txt',sep='\\t')\n",
    "summary[16:].stack()\n",
    "#parameters = pd.read_csv('txt_metanovo/parameters.txt',sep='\\t')\n",
    "#pramaters"
   ]
  },
  {
   "cell_type": "code",
   "execution_count": null,
   "metadata": {},
   "outputs": [],
   "source": [
    "# MetaNovp\n",
    "summary = pd.read_csv('cns_metanovo_txt/summary.txt',sep='\\t')\n",
    "summary[16:].stack()\n",
    "#parameters = pd.read_csv('txt_metanovo/parameters.txt',sep='\\t')\n",
    "#pramaters"
   ]
  },
  {
   "cell_type": "code",
   "execution_count": null,
   "metadata": {},
   "outputs": [],
   "source": [
    "folders = {'metanovo - UniProt':'cns_metanovo_txt',\n",
    "           'Human Reference proteome':'cns_reference_txt'}\n",
    "\n",
    "human_results = {}\n",
    "order = list(folders.keys())\n",
    "for name in folders:\n",
    "    path = folders[name]\n",
    "    res = process_txt(path, name)\n",
    "    human_results[name] = res"
   ]
  },
  {
   "cell_type": "markdown",
   "metadata": {},
   "source": [
    "### 2.2 Peptide and protein identification bar charts"
   ]
  },
  {
   "cell_type": "code",
   "execution_count": null,
   "metadata": {},
   "outputs": [],
   "source": [
    "\n",
    "keys = list(human_results.keys())\n",
    "plt.clf()\n",
    "#figure(num=None, figsize=(8, 6), dpi=120, facecolor='w', edgecolor='k')\n",
    "# Peptide counts per sample\n",
    "count_df = pd.DataFrame()\n",
    "for name in keys:\n",
    "    target_peptides = human_results[name]['TargetPeptides']\n",
    "    for col in target_peptides.columns:\n",
    "        if col.startswith('Experiment'):\n",
    "            seqs = set(target_peptides[(target_peptides[col] > 0)]['Sequence'].tolist())\n",
    "            count_df.loc[col.split()[1], name] = int(len(seqs))\n",
    "ax1 = count_df.plot(kind='bar', rot=1)\n",
    "ax1.set_title(\"Number of peptides\")\n",
    "ax1.legend(bbox_to_anchor=(1.05, 0), loc='lower left', borderaxespad=0.)\n",
    "fig = ax1.get_figure()\n",
    "\n",
    "fig.savefig('analysis/peptide_id_bar_cns.png', bbox_inches='tight')\n",
    "plt.xticks(rotation=90)\n",
    "\n",
    "plt.show()\n",
    "\n",
    "#figure(num=None, figsize=(8, 6), dpi=120, facecolor='w', edgecolor='k')\n",
    "# Protein counts per sample\n",
    "prot_count = pd.DataFrame()\n",
    "for name in keys:\n",
    "    target_proteins = human_results[name]['TargetProteins']\n",
    "    for col in target_proteins.columns:\n",
    "        if col.startswith('MS/MS count '):\n",
    "            ids = set(target_proteins[(target_proteins[col] > 0)]['id'].tolist())\n",
    "            prot_count.loc[col.split()[-1], name] = int(len(ids))\n",
    "##prot_count['index'] = prot_count.index\n",
    "#prot_count['index'] = prot_count['index'].apply(lambda x : int(x.split(\"E\")[1]))\n",
    "#prot_count = prot_count.sort_values('index')\n",
    "#del prot_count['index']\n",
    "ax2 = prot_count.plot(kind='bar', rot=1)\n",
    "ax2.set_title(\"Number of protein groups\")\n",
    "ax2.legend(bbox_to_anchor=(1.05, 0), loc='lower left', borderaxespad=0.)\n",
    "fig = ax2.get_figure()\n",
    "fig.savefig('analysis/protein_id_bar_cns.png', bbox_inches='tight')\n",
    "plt.xticks(rotation=90)\n",
    "\n",
    "plt.show()"
   ]
  },
  {
   "cell_type": "markdown",
   "metadata": {},
   "source": [
    "### 2.3 Peptide identification VENN diagrams"
   ]
  },
  {
   "cell_type": "code",
   "execution_count": null,
   "metadata": {},
   "outputs": [],
   "source": [
    "hset1 = set(human_results['metanovo - UniProt']['TargetPeptides']['Sequence'])\n",
    "hset2 = set(human_results['Human Reference proteome']['TargetPeptides']['Sequence'])\n",
    "\n",
    "\n",
    "fig = plt.figure()\n",
    "\n",
    "\n",
    "venn2([hset1, hset2], ('MetaNovo:\\nUniProt', 'Rerence proteome'))\n",
    "fig.savefig('analysis/mli_venn_cns.png', bbox_inches='tight')\n",
    "plt.show()"
   ]
  },
  {
   "cell_type": "code",
   "execution_count": null,
   "metadata": {},
   "outputs": [],
   "source": [
    "all_cns_peps = hset1.union(hset2)\n",
    "print('All peptides found: ', len(all_cns_peps))\n",
    "w = open('analysis/combined_cns_peptide_set.txt','w')\n",
    "w.write('\\n'.join(all_cns_peps))\n",
    "w.close()\n",
    "cmd = 'cat analysis/combined_cns_peptide_set.txt | prot2pept | peptfilter | sort -u | unipept pept2lca -e -a > analysis/combined_cns_pept2lca.csv'\n",
    "!{cmd}\n",
    "\n"
   ]
  },
  {
   "cell_type": "code",
   "execution_count": null,
   "metadata": {},
   "outputs": [],
   "source": [
    "len(hset1 & hset2) / len(hset1 | hset2) * 100"
   ]
  },
  {
   "cell_type": "code",
   "execution_count": null,
   "metadata": {},
   "outputs": [],
   "source": [
    "human_results.keys()"
   ]
  },
  {
   "cell_type": "code",
   "execution_count": null,
   "metadata": {},
   "outputs": [],
   "source": [
    "htaxa = pd.read_csv('analysis/combined_cns_pept2lca.csv')\n",
    "htemplate = pd.DataFrame(pd.Series(list(all_cns_peps)))\n",
    "htemplate.rename(columns={0:'peptide'}, inplace=True)\n",
    "hmapping = pd.merge(htemplate, htaxa, how='left')"
   ]
  },
  {
   "cell_type": "code",
   "execution_count": null,
   "metadata": {},
   "outputs": [],
   "source": [
    "res = plot_taxa(human_results, 'phylum_name',  hmapping)"
   ]
  },
  {
   "cell_type": "code",
   "execution_count": null,
   "metadata": {},
   "outputs": [],
   "source": [
    "res = plot_taxa(human_results, 'species_name', hmapping)"
   ]
  },
  {
   "cell_type": "code",
   "execution_count": null,
   "metadata": {},
   "outputs": [],
   "source": [
    "print('UniProt')\n",
    "res = plot_taxa_runs(human_results, 'species_name', 'metanovo - UniProt', hmapping )"
   ]
  },
  {
   "cell_type": "code",
   "execution_count": null,
   "metadata": {},
   "outputs": [],
   "source": [
    "print('Reference proteome')\n",
    "res = plot_taxa_runs(human_results, 'species_name', 'Human Reference proteome', hmapping )"
   ]
  },
  {
   "cell_type": "markdown",
   "metadata": {},
   "source": [
    "### 2.4 PEP Score analysis"
   ]
  },
  {
   "cell_type": "code",
   "execution_count": 25,
   "metadata": {},
   "outputs": [],
   "source": [
    "from Bio import SeqIO\n",
    "human_reference = list(SeqIO.parse(\"cns_reference_txt/uniprot-proteome%3AUP000005640.fasta\",\"fasta\"))\n",
    "seqs = '*'.join([str(i.seq) for i in human_reference])"
   ]
  },
  {
   "cell_type": "code",
   "execution_count": null,
   "metadata": {},
   "outputs": [],
   "source": [
    "import scipy.stats\n",
    "import scikit_posthocs as ph\n",
    "import numpy as np\n",
    "import Bio\n",
    "\n",
    "##################\n",
    "## Peptide Sets ##\n",
    "##################\n",
    "\n",
    "all_human_peps = set()\n",
    "all_non_human_peps = set()\n",
    "\n",
    "keys = list(human_results.keys())\n",
    "names = []\n",
    "pep_scores = []\n",
    "for key in keys:\n",
    "    print(key)\n",
    "    peps = set(human_results[key]['TargetPeptides']['Sequence'])\n",
    "    for pep in peps:\n",
    "        if pep in seqs:\n",
    "            all_human_peps.add(pep)\n",
    "        else:\n",
    "            all_non_human_peps.add(pep)"
   ]
  },
  {
   "cell_type": "code",
   "execution_count": null,
   "metadata": {},
   "outputs": [],
   "source": [
    "contaminants = human_results['metanovo - UniProt']['TargetPeptides']\n",
    "contaminants = set(contaminants[contaminants['Potential contaminant'] == '+']['Sequence'].tolist())"
   ]
  },
  {
   "cell_type": "code",
   "execution_count": null,
   "metadata": {},
   "outputs": [],
   "source": [
    "all_non_human_peps\n",
    "\n",
    "temp = human_results['metanovo - UniProt']['TargetPeptides']\n",
    "variants = temp[temp['Sequence'].isin(all_non_human_peps)]\n",
    "print(len(variants))\n",
    "variants = variants[variants['Potential contaminant'] != '+']\n"
   ]
  },
  {
   "cell_type": "code",
   "execution_count": null,
   "metadata": {},
   "outputs": [],
   "source": [
    "pep_scores = []\n",
    "names = []\n",
    "for key in keys:\n",
    "    peps = human_results[key]['TargetPeptides']\n",
    "    cpeps = peps[peps['Potential contaminant']=='+']\n",
    "    peps = peps[peps['Potential contaminant'] != '+']\n",
    "    #peps = peps[peps['PEP'] < 1]\n",
    "    rpeps = human_results[key]['ReversePeptides']\n",
    "    key_peps = set(peps['Sequence'].tolist()).copy()\n",
    "    non_human= set(key_peps)\n",
    "    human = set(key_peps)\n",
    "    for qkey in keys:\n",
    "        if not qkey == key:\n",
    "            non_human -= all_human_peps\n",
    "            human -= all_non_human_peps\n",
    "            \n",
    "    print('{} Human: '.format(key), len(human))\n",
    "    print('{} Non-human: '.format(key), len(non_human))\n",
    "        \n",
    "    human_pep = peps[peps['Sequence'].isin(human)]['PEP'].tolist()\n",
    "    pep_scores.append(human_pep)\n",
    "    names.append(key + ': Human')\n",
    "    \n",
    "    non_human_pep = peps[peps['Sequence'].isin(non_human)]['PEP'].tolist()\n",
    "    pep_scores.append(non_human_pep)\n",
    "    names.append(key + ': Other')\n",
    "    \n",
    "    contaminant_pep = cpeps['PEP'].tolist()\n",
    "    pep_scores.append(contaminant_pep)\n",
    "    names.append(key + ': Contaminant' )\n",
    "    \n",
    "    reverse_pep = rpeps['PEP'].tolist()\n",
    "    pep_scores.append(reverse_pep)\n",
    "    names.append(key + ': Reverse')\n",
    "\n",
    "#############\n",
    "## BOXPLOT ##\n",
    "#############\n",
    "\n",
    "colours = ['b','g','r','c','m','y','k']\n",
    "fig = plt.figure()\n",
    "ax = fig.add_subplot(111)\n",
    "# Create the boxplot\n",
    "bp = ax.boxplot(pep_scores, patch_artist=True, showfliers=False)\n",
    "## change outline color, fill color and linewidth of the boxes\n",
    "count = 0\n",
    "col_ind=0\n",
    "for box in bp['boxes']:\n",
    "    count += 1\n",
    "    # change outline color\n",
    "    box.set( color='#7570b3', linewidth=1)\n",
    "    # change fill color\n",
    "    box.set( facecolor = colours[col_ind] )\n",
    "    ## change color and linewidth of the whiskers\n",
    "    if count % 4 == 0:\n",
    "        col_ind +=1\n",
    "for whisker in bp['whiskers']:\n",
    "    whisker.set(color='#7570b3', linewidth=1)\n",
    "## change color and linewidth of the caps\n",
    "for cap in bp['caps']:\n",
    "    cap.set(color='#7570b3', linewidth=1)\n",
    "## change color and linewidth of the medians\n",
    "for median in bp['medians']:\n",
    "    median.set(color='#b2df8a', linewidth=2)\n",
    "    #median.set(linewidth=2)\n",
    "## change the style of fliers and their fill\n",
    "for flier in bp['fliers']:\n",
    "    flier.set(marker='.', color='#e7298a', alpha=0.5)\n",
    "## Custom x-axis labels\n",
    "ax.set_xticklabels(names, rotation=90)\n",
    "#ax.set_yticklabels('Posterior Error Probability (PEP)') \n",
    "ax.set_title('Peptide PEP Score distributions')\n",
    "## Remove top axes and right axes ticks\n",
    "ax.get_xaxis().tick_bottom()\n",
    "ax.get_yaxis().tick_left()\n",
    "fig.savefig('analysis/psm_pep_scores_cns.png', bbox_inches='tight')\n",
    "plt.show()\n",
    "fig.clf()\n",
    "\n",
    "pep_df = pd.DataFrame()\n",
    "for val in range(len(names)):\n",
    "    pep_df.loc[names[val], 'Count'] = len(pep_scores[val])\n",
    "    pep_df.loc[names[val], 'PEP Score - median'] = np.median(pep_scores[val])\n",
    "    pep_df.loc[names[val], 'PEP Score - std. dev.'] = np.std(pep_scores[val])\n",
    "\n",
    "pep_df.to_csv('analysis/cns_pep_scores.csv')\n",
    "pep_df"
   ]
  },
  {
   "cell_type": "code",
   "execution_count": null,
   "metadata": {},
   "outputs": [],
   "source": [
    "##post_hoc = list_kw_dunn(names, pep_scores, \"PEP\", \"Workflow\", 'analysis')\n",
    "#post_hoc"
   ]
  },
  {
   "cell_type": "code",
   "execution_count": null,
   "metadata": {},
   "outputs": [],
   "source": [
    "species_mapping = hmapping[hmapping['taxon_rank']=='species']\n",
    "primate_peptides = set(hmapping[hmapping['order_name']=='Primates']['peptide'].tolist())\n",
    "primate_non_human = primate_peptides & all_non_human_peps \n",
    "print(len(primate_non_human - contaminants))"
   ]
  },
  {
   "cell_type": "markdown",
   "metadata": {},
   "source": [
    "### 2.5 Genome annotation refinement by orthologous peptide identification"
   ]
  },
  {
   "cell_type": "code",
   "execution_count": 21,
   "metadata": {},
   "outputs": [
    {
     "ename": "NameError",
     "evalue": "name 'human_results' is not defined",
     "output_type": "error",
     "traceback": [
      "\u001b[0;31m---------------------------------------------------------------------------\u001b[0m",
      "\u001b[0;31mNameError\u001b[0m                                 Traceback (most recent call last)",
      "\u001b[0;32m<ipython-input-21-d83f68207b2f>\u001b[0m in \u001b[0;36m<module>\u001b[0;34m()\u001b[0m\n\u001b[1;32m      3\u001b[0m \u001b[0;34m\u001b[0m\u001b[0m\n\u001b[1;32m      4\u001b[0m \u001b[0;32mfor\u001b[0m \u001b[0mkey\u001b[0m \u001b[0;32min\u001b[0m \u001b[0morder\u001b[0m\u001b[0;34m:\u001b[0m\u001b[0;34m\u001b[0m\u001b[0m\n\u001b[0;32m----> 5\u001b[0;31m     \u001b[0mpeps\u001b[0m \u001b[0;34m=\u001b[0m \u001b[0mhuman_results\u001b[0m\u001b[0;34m[\u001b[0m\u001b[0mkey\u001b[0m\u001b[0;34m]\u001b[0m\u001b[0;34m[\u001b[0m\u001b[0;34m'TargetPeptides'\u001b[0m\u001b[0;34m]\u001b[0m\u001b[0;34m\u001b[0m\u001b[0m\n\u001b[0m\u001b[1;32m      6\u001b[0m     \u001b[0mpeps\u001b[0m \u001b[0;34m=\u001b[0m \u001b[0mpeps\u001b[0m\u001b[0;34m[\u001b[0m\u001b[0mpeps\u001b[0m\u001b[0;34m[\u001b[0m\u001b[0;34m'Potential contaminant'\u001b[0m\u001b[0;34m]\u001b[0m \u001b[0;34m!=\u001b[0m \u001b[0;34m'+'\u001b[0m\u001b[0;34m]\u001b[0m\u001b[0;34m\u001b[0m\u001b[0m\n\u001b[1;32m      7\u001b[0m     \u001b[0;31m#peps = peps[peps['PEP'] < 1]\u001b[0m\u001b[0;34m\u001b[0m\u001b[0;34m\u001b[0m\u001b[0m\n",
      "\u001b[0;31mNameError\u001b[0m: name 'human_results' is not defined"
     ]
    }
   ],
   "source": [
    "pep_scores = []\n",
    "names = []\n",
    "\n",
    "for key in keys:\n",
    "    peps = human_results[key]['TargetPeptides']\n",
    "    peps = peps[peps['Potential contaminant'] != '+']\n",
    "    #peps = peps[peps['PEP'] < 1]\n",
    "    rpeps = human_results[key]['ReversePeptides']\n",
    "    key_peps = set(peps['Sequence'].tolist()).copy()\n",
    "    non_human= set(key_peps)\n",
    "    human = set(key_peps)\n",
    "    for qkey in keys:\n",
    "        if not qkey == key:\n",
    "            non_human = human & primate_non_human\n",
    "            human -= all_non_human_peps\n",
    "    print('{} Human: '.format(key), len(human))\n",
    "    print('{} Non-human primates: '.format(key), len(non_human))\n",
    "    human_pep = peps[peps['Sequence'].isin(human)]['PEP'].tolist()\n",
    "    pep_scores.append(human_pep)\n",
    "    names.append(key + ': Human')\n",
    "    non_human_pep = peps[peps['Sequence'].isin(non_human)]['PEP'].tolist()\n",
    "    pep_scores.append(non_human_pep)\n",
    "    names.append(key + ': Other primates')\n",
    "    reverse_pep = rpeps['PEP'].tolist()\n",
    "    pep_scores.append(reverse_pep)\n",
    "    names.append(key + ': Reverse')\n",
    "\n",
    "#############\n",
    "## BOXPLOT ##\n",
    "#############\n",
    "\n",
    "colours = ['b','g','r','c','m','y','k']\n",
    "fig = plt.figure()\n",
    "ax = fig.add_subplot(111)\n",
    "# Create the boxplot\n",
    "bp = ax.boxplot(pep_scores, patch_artist=True, showfliers=False)\n",
    "## change outline color, fill color and linewidth of the boxes\n",
    "count = 0\n",
    "col_ind=0\n",
    "for box in bp['boxes']:\n",
    "    count += 1\n",
    "    # change outline color\n",
    "    box.set( color='#7570b3', linewidth=1)\n",
    "    # change fill color\n",
    "    box.set( facecolor = colours[col_ind] )\n",
    "    ## change color and linewidth of the whiskers\n",
    "    if count % 3 == 0:\n",
    "        col_ind +=1\n",
    "for whisker in bp['whiskers']:\n",
    "    whisker.set(color='#7570b3', linewidth=1)\n",
    "## change color and linewidth of the caps\n",
    "for cap in bp['caps']:\n",
    "    cap.set(color='#7570b3', linewidth=1)\n",
    "## change color and linewidth of the medians\n",
    "for median in bp['medians']:\n",
    "    median.set(color='#b2df8a', linewidth=2)\n",
    "    #median.set(linewidth=2)\n",
    "## change the style of fliers and their fill\n",
    "for flier in bp['fliers']:\n",
    "    flier.set(marker='.', color='#e7298a', alpha=0.5)\n",
    "## Custom x-axis labels\n",
    "ax.set_xticklabels(names, rotation=90)\n",
    "#ax.set_yticklabels('Posterior Error Probability (PEP)') \n",
    "ax.set_title('Peptide PEP Score distributions')\n",
    "## Remove top axes and right axes ticks\n",
    "ax.get_xaxis().tick_bottom()\n",
    "ax.get_yaxis().tick_left()\n",
    "fig.savefig('analysis/psm_pep_scores_cns_primate.png', bbox_inches='tight')\n",
    "plt.show()\n",
    "fig.clf()\n",
    "\n",
    "pep_df = pd.DataFrame()\n",
    "for val in range(len(names)):\n",
    "    pep_df.loc[names[val], 'Count'] = len(pep_scores[val])\n",
    "    pep_df.loc[names[val], 'PEP Score - median'] = np.median(pep_scores[val])\n",
    "    pep_df.loc[names[val], 'PEP Score - std. dev.'] = np.std(pep_scores[val])\n",
    "\n",
    "pep_df.to_csv('analysis/cns_primate_pep_scores.csv')\n",
    "pep_df"
   ]
  },
  {
   "cell_type": "code",
   "execution_count": null,
   "metadata": {},
   "outputs": [],
   "source": [
    "print(names)\n",
    "post_hoc = list_kw_dunn([names[0], \n",
    "                       \n",
    "                         names[2], \n",
    "                         names[3], \n",
    "                         names[4],\n",
    "                         names[5]], \n",
    "                        [pep_scores[0], \n",
    "                      \n",
    "                         pep_scores[2], \n",
    "                         pep_scores[3], \n",
    "                         pep_scores[4],\n",
    "                         pep_scores[5]], \"PEP\", \"Workflow\", 'analysis')\n",
    "post_hoc"
   ]
  },
  {
   "cell_type": "raw",
   "metadata": {},
   "source": [
    "Query1                  AEGDISNVADGFK                  13\n",
    "                        AEGDISNVA+GFK\n",
    "Q9UBB4 ATX10_HUMAN359   AEGDISNVANGFK                  371\n",
    "\n",
    "Query1                  ASSSILINESEPTTNIQIR            19\n",
    "                        ASSSILINESEPTTNIQIR\n",
    "Q6ZQU3 Q6ZQU3_HUMAN56   ASSSILINESEPTTNIQIR            74\n",
    "\n",
    "Query1                  AVFVDLEPTVVEEVR                15\n",
    "                        AVFVDLEPTVV+EVR\n",
    "Q6PEY2 TBA3E_HUMAN65    AVFVDLEPTVVDEVR                79"
   ]
  },
  {
   "cell_type": "markdown",
   "metadata": {},
   "source": [
    "## 3. Adult stool"
   ]
  },
  {
   "cell_type": "code",
   "execution_count": 10,
   "metadata": {},
   "outputs": [
    {
     "data": {
      "text/plain": [
       "16  Raw file                                          FASP_A\n",
       "    Peptide Sequences Identified                        7450\n",
       "17  Raw file                                         FASP_AE\n",
       "    Peptide Sequences Identified                        9306\n",
       "18  Raw file                                          FASP_B\n",
       "    Peptide Sequences Identified                        5058\n",
       "19  Raw file                                         FASP_BE\n",
       "    Peptide Sequences Identified                        9471\n",
       "20  Raw file                                          FASP_C\n",
       "    Peptide Sequences Identified                        4213\n",
       "21  Raw file                                         FASP_CE\n",
       "    Peptide Sequences Identified                        7128\n",
       "22  Raw file                                          FASP_D\n",
       "    Peptide Sequences Identified                        4613\n",
       "23  Raw file                                         FASP_DE\n",
       "    Peptide Sequences Identified                        8829\n",
       "24  Raw file                                         Insol_A\n",
       "    Peptide Sequences Identified                        8094\n",
       "25  Raw file                                        Insol_AE\n",
       "    Peptide Sequences Identified                        7988\n",
       "26  Raw file                                         Insol_B\n",
       "    Peptide Sequences Identified                        6115\n",
       "27  Raw file                                        Insol_BE\n",
       "    Peptide Sequences Identified                        8236\n",
       "28  Raw file                                         Insol_C\n",
       "    Peptide Sequences Identified                        7984\n",
       "29  Raw file                                        Insol_CE\n",
       "    Peptide Sequences Identified                        9051\n",
       "30  Raw file                                         Insol_D\n",
       "    Peptide Sequences Identified                        7478\n",
       "31  Raw file                                        Insol_DE\n",
       "    Peptide Sequences Identified                       10093\n",
       "32  Raw file                                           Total\n",
       "    MS                                                128564\n",
       "    MS/MS                                             815871\n",
       "    MS3                                                    0\n",
       "    MS/MS Submitted                                   961839\n",
       "    MS/MS Submitted (SIL)                             669903\n",
       "    MS/MS Submitted (ISO)                                  0\n",
       "    MS/MS Submitted (PEAK)                            291936\n",
       "    MS/MS Identified                                  182635\n",
       "    MS/MS Identified (SIL)                            176251\n",
       "    MS/MS Identified (ISO)                                 0\n",
       "    MS/MS Identified (PEAK)                             6384\n",
       "    MS/MS Identified [%]                               18.99\n",
       "    MS/MS Identified (SIL) [%]                         26.31\n",
       "    MS/MS Identified (PEAK) [%]                         2.19\n",
       "    Peptide Sequences Identified                       29943\n",
       "    Peaks                                        1.64477e+07\n",
       "    Isotope Patterns                              1.7284e+06\n",
       "    Isotope Patterns Sequenced                        496726\n",
       "    Isotope Patterns Sequenced (z>1)                  475577\n",
       "    Isotope Patterns Sequenced [%]                     28.74\n",
       "    Isotope Patterns Sequenced (z>1) [%]               32.62\n",
       "    Isotope Patterns Repeatedly Sequenced             121529\n",
       "    Isotope Patterns Repeatedly Sequenced [%]          24.47\n",
       "    Av. Absolute Mass Deviation [ppm]                0.77932\n",
       "    Mass Standard Deviation [ppm]                     1.0776\n",
       "    Av. Absolute Mass Deviation [mDa]                0.57322\n",
       "    Mass Standard Deviation [mDa]                    0.84464\n",
       "dtype: object"
      ]
     },
     "execution_count": 10,
     "metadata": {},
     "output_type": "execute_result"
    }
   ],
   "source": [
    "# MetaNovp\n",
    "summary = pd.read_csv('metanovo_stool/stool_analysis_txt/txt/summary.txt',sep='\\t')\n",
    "summary[16:].stack()\n",
    "#parameters = pd.read_csv('txt_metanovo/parameters.txt',sep='\\t')\n",
    "#pramaters"
   ]
  },
  {
   "cell_type": "markdown",
   "metadata": {},
   "source": [
    "{'Afrotheria',\n",
    " 'Atherinomorphae',\n",
    " 'Batrachia',\n",
    " 'Characiphysae',\n",
    " 'Cypriniphysae',\n",
    " 'Euarchontoglires',\n",
    " 'Laurasiatheria',\n",
    " 'Lepidosauria',\n",
    " 'Neognathae',\n",
    " 'Octopodiformes',\n",
    " 'Palaeognathae',\n",
    " 'Parasitiformes',\n",
    " 'Podoplea',\n",
    " nan}"
   ]
  },
  {
   "cell_type": "code",
   "execution_count": 13,
   "metadata": {},
   "outputs": [
    {
     "name": "stdout",
     "output_type": "stream",
     "text": [
      "Analysis: metanovo - UniProt\n",
      "metanovo - UniProt: Total peptides:  29943\n",
      "metanovo - UniProt: Total target peptides:  29874\n",
      "metanovo - UniProt: proteins:  6452\n",
      "metanovo - UniProt: Total target proteins:  6385\n",
      "\n"
     ]
    }
   ],
   "source": [
    "folders = {'metanovo - UniProt':'metanovo_stool/stool_analysis_txt/txt'}\n",
    "\n",
    "stool_results = {}\n",
    "order = list(folders.keys())\n",
    "for name in folders:\n",
    "    path = folders[name]\n",
    "    res = process_txt(path, name)\n",
    "    stool_results[name] = res"
   ]
  },
  {
   "cell_type": "code",
   "execution_count": 16,
   "metadata": {},
   "outputs": [
    {
     "name": "stdout",
     "output_type": "stream",
     "text": [
      "     253\r\n"
     ]
    }
   ],
   "source": [
    "cat metanovo_stool/stool_analysis_txt/txt/analysis/peptides/contaminant_peptides_list.txt | wc -l"
   ]
  },
  {
   "cell_type": "code",
   "execution_count": 17,
   "metadata": {},
   "outputs": [
    {
     "name": "stdout",
     "output_type": "stream",
     "text": [
      "   29873\r\n"
     ]
    }
   ],
   "source": [
    "cat metanovo_stool/stool_analysis_txt/txt/analysis/peptides/target_peptides_list.txt | wc -l"
   ]
  },
  {
   "cell_type": "code",
   "execution_count": 18,
   "metadata": {},
   "outputs": [
    {
     "name": "stdout",
     "output_type": "stream",
     "text": [
      "contaminant_peptides_list.txt    reverse_peptides_list.txt\r\n",
      "non_reference_peptides_list.txt  target_peptides.txt\r\n",
      "reference_peptides_list.txt      target_peptides_list.txt\r\n"
     ]
    }
   ],
   "source": [
    "ls metanovo_stool/stool_analysis_txt/txt/analysis/peptides"
   ]
  },
  {
   "cell_type": "code",
   "execution_count": 19,
   "metadata": {},
   "outputs": [
    {
     "name": "stdout",
     "output_type": "stream",
     "text": [
      "    2558\r\n"
     ]
    }
   ],
   "source": [
    "cat metanovo_stool/stool_analysis_txt/txt/analysis/peptides/reference_peptides_list.txt | wc -l"
   ]
  },
  {
   "cell_type": "code",
   "execution_count": null,
   "metadata": {},
   "outputs": [],
   "source": []
  },
  {
   "cell_type": "code",
   "execution_count": 26,
   "metadata": {},
   "outputs": [
    {
     "name": "stdout",
     "output_type": "stream",
     "text": [
      "metanovo - UniProt\n"
     ]
    }
   ],
   "source": [
    "##################\n",
    "## Peptide Sets ##\n",
    "##################\n",
    "\n",
    "all_human_peps = set()\n",
    "all_non_human_peps = set()\n",
    "\n",
    "keys = list(stool_results.keys())\n",
    "names = []\n",
    "pep_scores = []\n",
    "for key in keys:\n",
    "    print(key)\n",
    "    peps = set(stool_results[key]['TargetPeptides']['Sequence'])\n",
    "    for pep in peps:\n",
    "        if pep in seqs:\n",
    "            all_human_peps.add(pep)\n",
    "        else:\n",
    "            all_non_human_peps.add(pep)"
   ]
  },
  {
   "cell_type": "code",
   "execution_count": 31,
   "metadata": {},
   "outputs": [
    {
     "name": "stdout",
     "output_type": "stream",
     "text": [
      "metanovo - UniProt Human:  2559\n",
      "metanovo - UniProt Non-human:  27061\n"
     ]
    },
    {
     "data": {
      "image/png": "[encoded data removed]",
      "text/plain": [
       "<Figure size 432x288 with 1 Axes>"
      ]
     },
     "metadata": {},
     "output_type": "display_data"
    },
    {
     "data": {
      "text/html": [
       "<div>\n",
       "<style scoped>\n",
       "    .dataframe tbody tr th:only-of-type {\n",
       "        vertical-align: middle;\n",
       "    }\n",
       "\n",
       "    .dataframe tbody tr th {\n",
       "        vertical-align: top;\n",
       "    }\n",
       "\n",
       "    .dataframe thead th {\n",
       "        text-align: right;\n",
       "    }\n",
       "</style>\n",
       "<table border=\"1\" class=\"dataframe\">\n",
       "  <thead>\n",
       "    <tr style=\"text-align: right;\">\n",
       "      <th></th>\n",
       "      <th>Count</th>\n",
       "      <th>PEP Score - median</th>\n",
       "      <th>PEP Score - std. dev.</th>\n",
       "    </tr>\n",
       "  </thead>\n",
       "  <tbody>\n",
       "    <tr>\n",
       "      <th>metanovo - UniProt: Human</th>\n",
       "      <td>2559.0</td>\n",
       "      <td>0.000158</td>\n",
       "      <td>0.011650</td>\n",
       "    </tr>\n",
       "    <tr>\n",
       "      <th>metanovo - UniProt: Other</th>\n",
       "      <td>27061.0</td>\n",
       "      <td>0.000949</td>\n",
       "      <td>0.017429</td>\n",
       "    </tr>\n",
       "    <tr>\n",
       "      <th>metanovo - UniProt: Contaminant</th>\n",
       "      <td>254.0</td>\n",
       "      <td>0.001017</td>\n",
       "      <td>0.011370</td>\n",
       "    </tr>\n",
       "    <tr>\n",
       "      <th>metanovo - UniProt: Reverse</th>\n",
       "      <td>69.0</td>\n",
       "      <td>0.004650</td>\n",
       "      <td>0.008234</td>\n",
       "    </tr>\n",
       "  </tbody>\n",
       "</table>\n",
       "</div>"
      ],
      "text/plain": [
       "                                   Count  PEP Score - median  \\\n",
       "metanovo - UniProt: Human         2559.0            0.000158   \n",
       "metanovo - UniProt: Other        27061.0            0.000949   \n",
       "metanovo - UniProt: Contaminant    254.0            0.001017   \n",
       "metanovo - UniProt: Reverse         69.0            0.004650   \n",
       "\n",
       "                                 PEP Score - std. dev.  \n",
       "metanovo - UniProt: Human                     0.011650  \n",
       "metanovo - UniProt: Other                     0.017429  \n",
       "metanovo - UniProt: Contaminant               0.011370  \n",
       "metanovo - UniProt: Reverse                   0.008234  "
      ]
     },
     "execution_count": 31,
     "metadata": {},
     "output_type": "execute_result"
    }
   ],
   "source": [
    "pep_scores = []\n",
    "names = []\n",
    "keys = list(stool_results.keys())\n",
    "for key in keys:\n",
    "    peps = stool_results[key]['TargetPeptides']\n",
    "    cpeps = peps[peps['Potential contaminant']=='+']\n",
    "    peps = peps[peps['Potential contaminant'] != '+']\n",
    "    #peps = peps[peps['PEP'] < 1]\n",
    "    rpeps = stool_results[key]['ReversePeptides']\n",
    "    key_peps = set(peps['Sequence'].tolist()).copy()\n",
    "    non_human= set(key_peps)\n",
    "    human = set(key_peps)\n",
    "    #for qkey in keys:\n",
    "    #|    if not qkey == key:\n",
    "    non_human -= all_human_peps\n",
    "    human -= all_non_human_peps\n",
    "            \n",
    "    print('{} Human: '.format(key), len(human))\n",
    "    print('{} Non-human: '.format(key), len(non_human))\n",
    "        \n",
    "    human_pep = peps[peps['Sequence'].isin(human)]['PEP'].tolist()\n",
    "    pep_scores.append(human_pep)\n",
    "    names.append(key + ': Human')\n",
    "    \n",
    "    non_human_pep = peps[peps['Sequence'].isin(non_human)]['PEP'].tolist()\n",
    "    pep_scores.append(non_human_pep)\n",
    "    names.append(key + ': Other')\n",
    "    \n",
    "    contaminant_pep = cpeps['PEP'].tolist()\n",
    "    pep_scores.append(contaminant_pep)\n",
    "    names.append(key + ': Contaminant' )\n",
    "    \n",
    "    reverse_pep = rpeps['PEP'].tolist()\n",
    "    pep_scores.append(reverse_pep)\n",
    "    names.append(key + ': Reverse')\n",
    "\n",
    "#############\n",
    "## BOXPLOT ##\n",
    "#############\n",
    "\n",
    "colours = ['b','g','r','c','m','y','k']\n",
    "fig = plt.figure()\n",
    "ax = fig.add_subplot(111)\n",
    "# Create the boxplot\n",
    "bp = ax.boxplot(pep_scores, patch_artist=True, showfliers=False)\n",
    "## change outline color, fill color and linewidth of the boxes\n",
    "count = 0\n",
    "col_ind=0\n",
    "for box in bp['boxes']:\n",
    "    count += 1\n",
    "    # change outline color\n",
    "    box.set( color='#7570b3', linewidth=1)\n",
    "    # change fill color\n",
    "    box.set( facecolor = colours[col_ind] )\n",
    "    ## change color and linewidth of the whiskers\n",
    "    if count % 4 == 0:\n",
    "        col_ind +=1\n",
    "for whisker in bp['whiskers']:\n",
    "    whisker.set(color='#7570b3', linewidth=1)\n",
    "## change color and linewidth of the caps\n",
    "for cap in bp['caps']:\n",
    "    cap.set(color='#7570b3', linewidth=1)\n",
    "## change color and linewidth of the medians\n",
    "for median in bp['medians']:\n",
    "    median.set(color='#b2df8a', linewidth=2)\n",
    "    #median.set(linewidth=2)\n",
    "## change the style of fliers and their fill\n",
    "for flier in bp['fliers']:\n",
    "    flier.set(marker='.', color='#e7298a', alpha=0.5)\n",
    "## Custom x-axis labels\n",
    "ax.set_xticklabels(names, rotation=90)\n",
    "#ax.set_yticklabels('Posterior Error Probability (PEP)') \n",
    "ax.set_title('Peptide PEP Score distributions')\n",
    "## Remove top axes and right axes ticks\n",
    "ax.get_xaxis().tick_bottom()\n",
    "ax.get_yaxis().tick_left()\n",
    "fig.savefig('analysis/psm_pep_scores_stool.png', bbox_inches='tight')\n",
    "plt.show()\n",
    "fig.clf()\n",
    "\n",
    "pep_df = pd.DataFrame()\n",
    "for val in range(len(names)):\n",
    "    pep_df.loc[names[val], 'Count'] = len(pep_scores[val])\n",
    "    pep_df.loc[names[val], 'PEP Score - median'] = np.median(pep_scores[val])\n",
    "    pep_df.loc[names[val], 'PEP Score - std. dev.'] = np.std(pep_scores[val])\n",
    "\n",
    "pep_df.to_csv('analysis/stool_pep_scores.csv')\n",
    "pep_df"
   ]
  },
  {
   "cell_type": "code",
   "execution_count": 34,
   "metadata": {},
   "outputs": [
    {
     "name": "stdout",
     "output_type": "stream",
     "text": [
      "KruskalResult(statistic=261.7432734591897, pvalue=1.8866788880406473e-56)\n"
     ]
    },
    {
     "data": {
      "text/html": [
       "<div>\n",
       "<style scoped>\n",
       "    .dataframe tbody tr th:only-of-type {\n",
       "        vertical-align: middle;\n",
       "    }\n",
       "\n",
       "    .dataframe tbody tr th {\n",
       "        vertical-align: top;\n",
       "    }\n",
       "\n",
       "    .dataframe thead th {\n",
       "        text-align: right;\n",
       "    }\n",
       "</style>\n",
       "<table border=\"1\" class=\"dataframe\">\n",
       "  <thead>\n",
       "    <tr style=\"text-align: right;\">\n",
       "      <th></th>\n",
       "      <th>metanovo - UniProt: Human</th>\n",
       "      <th>metanovo - UniProt: Other</th>\n",
       "      <th>metanovo - UniProt: Contaminant</th>\n",
       "      <th>metanovo - UniProt: Reverse</th>\n",
       "    </tr>\n",
       "  </thead>\n",
       "  <tbody>\n",
       "    <tr>\n",
       "      <th>metanovo - UniProt: Human</th>\n",
       "      <td>-1.000000e+00</td>\n",
       "      <td>7.074290e-51</td>\n",
       "      <td>0.000002</td>\n",
       "      <td>3.375956e-15</td>\n",
       "    </tr>\n",
       "    <tr>\n",
       "      <th>metanovo - UniProt: Other</th>\n",
       "      <td>7.074290e-51</td>\n",
       "      <td>-1.000000e+00</td>\n",
       "      <td>0.994544</td>\n",
       "      <td>6.978041e-08</td>\n",
       "    </tr>\n",
       "    <tr>\n",
       "      <th>metanovo - UniProt: Contaminant</th>\n",
       "      <td>2.475835e-06</td>\n",
       "      <td>9.945444e-01</td>\n",
       "      <td>-1.000000</td>\n",
       "      <td>1.437990e-06</td>\n",
       "    </tr>\n",
       "    <tr>\n",
       "      <th>metanovo - UniProt: Reverse</th>\n",
       "      <td>3.375956e-15</td>\n",
       "      <td>6.978041e-08</td>\n",
       "      <td>0.000001</td>\n",
       "      <td>-1.000000e+00</td>\n",
       "    </tr>\n",
       "  </tbody>\n",
       "</table>\n",
       "</div>"
      ],
      "text/plain": [
       "                                 metanovo - UniProt: Human  \\\n",
       "metanovo - UniProt: Human                    -1.000000e+00   \n",
       "metanovo - UniProt: Other                     7.074290e-51   \n",
       "metanovo - UniProt: Contaminant               2.475835e-06   \n",
       "metanovo - UniProt: Reverse                   3.375956e-15   \n",
       "\n",
       "                                 metanovo - UniProt: Other  \\\n",
       "metanovo - UniProt: Human                     7.074290e-51   \n",
       "metanovo - UniProt: Other                    -1.000000e+00   \n",
       "metanovo - UniProt: Contaminant               9.945444e-01   \n",
       "metanovo - UniProt: Reverse                   6.978041e-08   \n",
       "\n",
       "                                 metanovo - UniProt: Contaminant  \\\n",
       "metanovo - UniProt: Human                               0.000002   \n",
       "metanovo - UniProt: Other                               0.994544   \n",
       "metanovo - UniProt: Contaminant                        -1.000000   \n",
       "metanovo - UniProt: Reverse                             0.000001   \n",
       "\n",
       "                                 metanovo - UniProt: Reverse  \n",
       "metanovo - UniProt: Human                       3.375956e-15  \n",
       "metanovo - UniProt: Other                       6.978041e-08  \n",
       "metanovo - UniProt: Contaminant                 1.437990e-06  \n",
       "metanovo - UniProt: Reverse                    -1.000000e+00  "
      ]
     },
     "execution_count": 34,
     "metadata": {},
     "output_type": "execute_result"
    }
   ],
   "source": [
    "post_hoc = list_kw_dunn(names, pep_scores, \"PEP\", \"Workflow\", 'analysis')\n",
    "post_hoc"
   ]
  },
  {
   "cell_type": "code",
   "execution_count": null,
   "metadata": {},
   "outputs": [],
   "source": []
  }
 ],
 "metadata": {
  "kernelspec": {
   "display_name": "Python 3",
   "language": "python",
   "name": "python3"
  },
  "language_info": {
   "codemirror_mode": {
    "name": "ipython",
    "version": 3
   },
   "file_extension": ".py",
   "mimetype": "text/x-python",
   "name": "python",
   "nbconvert_exporter": "python",
   "pygments_lexer": "ipython3",
   "version": "3.5.2"
  }
 },
 "nbformat": 4,
 "nbformat_minor": 2
}
